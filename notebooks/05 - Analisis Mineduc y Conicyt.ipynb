{
 "cells": [
  {
   "cell_type": "code",
   "execution_count": 116,
   "metadata": {},
   "outputs": [],
   "source": [
    "import numpy as np\n",
    "import matplotlib.pyplot as plt\n",
    "import pandas as pd\n",
    "\n",
    "from sklearn.preprocessing import PolynomialFeatures\n",
    "from sklearn import linear_model\n",
    "from scipy.optimize import curve_fit\n",
    "\n",
    "%matplotlib inline\n",
    "\n",
    "pd.set_option('display.max_columns', None)\n",
    "pd.set_option('max_colwidth', 100)"
   ]
  },
  {
   "cell_type": "code",
   "execution_count": 93,
   "metadata": {},
   "outputs": [
    {
     "data": {
      "text/plain": [
       "<matplotlib.axes._subplots.AxesSubplot at 0x1a1a242e48>"
      ]
     },
     "execution_count": 93,
     "metadata": {},
     "output_type": "execute_result"
    },
    {
     "data": {
      "image/png": "[encoded data removed]",
      "text/plain": [
       "<matplotlib.figure.Figure at 0x1a1a0b62e8>"
      ]
     },
     "metadata": {},
     "output_type": "display_data"
    }
   ],
   "source": [
    "data = {'año':np.array([2010,2011,2012,2013,2014]), 'n_doctores':np.array([433.,474.,584.,630.,650.])}\n",
    "data_df = pd.DataFrame(data)\n",
    "\n",
    "data_df.plot(kind='line', x='año', y='n_doctores')"
   ]
  },
  {
   "cell_type": "markdown",
   "metadata": {},
   "source": [
    "## Using linear regression model"
   ]
  },
  {
   "cell_type": "code",
   "execution_count": 104,
   "metadata": {},
   "outputs": [
    {
     "data": {
      "text/plain": [
       "LinearRegression(copy_X=True, fit_intercept=True, n_jobs=1, normalize=False)"
      ]
     },
     "execution_count": 104,
     "metadata": {},
     "output_type": "execute_result"
    }
   ],
   "source": [
    "X=data['año'][:, np.newaxis]\n",
    "y=data['n_doctores']\n",
    "\n",
    "poly = PolynomialFeatures(degree=1)\n",
    "X_ = poly.fit_transform(X)\n",
    "\n",
    "clf = linear_model.LinearRegression()\n",
    "clf.fit(X_, y)"
   ]
  },
  {
   "cell_type": "code",
   "execution_count": 105,
   "metadata": {},
   "outputs": [
    {
     "data": {
      "text/plain": [
       "0.94252263570593064"
      ]
     },
     "execution_count": 105,
     "metadata": {},
     "output_type": "execute_result"
    }
   ],
   "source": [
    "clf.score(X_,y)"
   ]
  },
  {
   "cell_type": "code",
   "execution_count": 106,
   "metadata": {},
   "outputs": [
    {
     "name": "stdout",
     "output_type": "stream",
     "text": [
      "[ 436.2  495.2  554.2  613.2  672.2  731.2  790.2  849.2]\n"
     ]
    }
   ],
   "source": [
    "predict=np.arange(2010,2018).reshape(-1, 1)\n",
    "predict_ = poly.fit_transform(predict)\n",
    "\n",
    "print(clf.predict(predict_))"
   ]
  },
  {
   "cell_type": "markdown",
   "metadata": {},
   "source": [
    "## Using sigmoid function"
   ]
  },
  {
   "cell_type": "code",
   "execution_count": 94,
   "metadata": {
    "collapsed": true
   },
   "outputs": [],
   "source": [
    "def sigmoid(x, x0, k, a, c):\n",
    "    y = a / (1 + np.exp(-k*(x-x0))) + c\n",
    "    return y"
   ]
  },
  {
   "cell_type": "code",
   "execution_count": 95,
   "metadata": {},
   "outputs": [
    {
     "name": "stdout",
     "output_type": "stream",
     "text": [
      "[   1.            1.          460.02857002   94.17142998]\n",
      "[[ inf  inf  inf  inf]\n",
      " [ inf  inf  inf  inf]\n",
      " [ inf  inf  inf  inf]\n",
      " [ inf  inf  inf  inf]]\n"
     ]
    },
    {
     "name": "stderr",
     "output_type": "stream",
     "text": [
      "/Users/rmunoz/anaconda3/lib/python3.6/site-packages/scipy/optimize/minpack.py:785: OptimizeWarning: Covariance of the parameters could not be estimated\n",
      "  category=OptimizeWarning)\n"
     ]
    }
   ],
   "source": [
    "popt, pcov = curve_fit(sigmoid, data['año'], data['n_doctores'])\n",
    "print(popt)\n",
    "print(pcov)"
   ]
  },
  {
   "cell_type": "code",
   "execution_count": 97,
   "metadata": {},
   "outputs": [
    {
     "name": "stdout",
     "output_type": "stream",
     "text": [
      "[ 554.2  554.2  554.2  554.2  554.2  554.2  554.2  554.2]\n"
     ]
    }
   ],
   "source": [
    "x_predict=np.arange(2010,2018)\n",
    "y_predict = sigmoid(predict, *popt)\n",
    "\n",
    "print(y_predict)"
   ]
  },
  {
   "cell_type": "markdown",
   "metadata": {},
   "source": [
    "## Using logistic regression model"
   ]
  },
  {
   "cell_type": "code",
   "execution_count": 80,
   "metadata": {},
   "outputs": [
    {
     "data": {
      "text/plain": [
       "LogisticRegression(C=1.0, class_weight=None, dual=False, fit_intercept=True,\n",
       "          intercept_scaling=1, max_iter=100, multi_class='ovr', n_jobs=1,\n",
       "          penalty='l2', random_state=None, solver='liblinear', tol=0.0001,\n",
       "          verbose=0, warm_start=False)"
      ]
     },
     "execution_count": 80,
     "metadata": {},
     "output_type": "execute_result"
    }
   ],
   "source": [
    "clf = linear_model.LogisticRegression()\n",
    "clf.fit(X, y)"
   ]
  },
  {
   "cell_type": "code",
   "execution_count": 81,
   "metadata": {},
   "outputs": [
    {
     "data": {
      "text/plain": [
       "array([[-0.00068962],\n",
       "       [-0.00068931],\n",
       "       [-0.000689  ],\n",
       "       [-0.00068869],\n",
       "       [-0.00068838]])"
      ]
     },
     "execution_count": 81,
     "metadata": {},
     "output_type": "execute_result"
    }
   ],
   "source": [
    "clf.coef_"
   ]
  },
  {
   "cell_type": "code",
   "execution_count": 72,
   "metadata": {},
   "outputs": [
    {
     "ename": "ValueError",
     "evalue": "operands could not be broadcast together with shapes (8,1) (5,1) ",
     "output_type": "error",
     "traceback": [
      "\u001b[0;31m---------------------------------------------------------------------------\u001b[0m",
      "\u001b[0;31mValueError\u001b[0m                                Traceback (most recent call last)",
      "\u001b[0;32m<ipython-input-72-4e29dbb66c89>\u001b[0m in \u001b[0;36m<module>\u001b[0;34m()\u001b[0m\n\u001b[1;32m      3\u001b[0m \u001b[0;34m\u001b[0m\u001b[0m\n\u001b[1;32m      4\u001b[0m \u001b[0mpredict\u001b[0m\u001b[0;34m=\u001b[0m\u001b[0mnp\u001b[0m\u001b[0;34m.\u001b[0m\u001b[0marange\u001b[0m\u001b[0;34m(\u001b[0m\u001b[0;36m2010\u001b[0m\u001b[0;34m,\u001b[0m\u001b[0;36m2018\u001b[0m\u001b[0;34m)\u001b[0m\u001b[0;34m[\u001b[0m\u001b[0;34m:\u001b[0m\u001b[0;34m,\u001b[0m \u001b[0mnp\u001b[0m\u001b[0;34m.\u001b[0m\u001b[0mnewaxis\u001b[0m\u001b[0;34m]\u001b[0m\u001b[0;34m\u001b[0m\u001b[0m\n\u001b[0;32m----> 5\u001b[0;31m \u001b[0mresult\u001b[0m \u001b[0;34m=\u001b[0m \u001b[0mmodel\u001b[0m\u001b[0;34m(\u001b[0m\u001b[0mpredict\u001b[0m \u001b[0;34m*\u001b[0m \u001b[0mclf\u001b[0m\u001b[0;34m.\u001b[0m\u001b[0mcoef_\u001b[0m \u001b[0;34m+\u001b[0m \u001b[0mclf\u001b[0m\u001b[0;34m.\u001b[0m\u001b[0mintercept_\u001b[0m\u001b[0;34m)\u001b[0m\u001b[0;34m.\u001b[0m\u001b[0mravel\u001b[0m\u001b[0;34m(\u001b[0m\u001b[0;34m)\u001b[0m\u001b[0;34m\u001b[0m\u001b[0m\n\u001b[0m\u001b[1;32m      6\u001b[0m \u001b[0mresult\u001b[0m\u001b[0;34m\u001b[0m\u001b[0m\n",
      "\u001b[0;31mValueError\u001b[0m: operands could not be broadcast together with shapes (8,1) (5,1) "
     ]
    }
   ],
   "source": [
    "def model(x):\n",
    "    return 1 / (1 + np.exp(-x))\n",
    "\n",
    "predict=np.arange(2010,2018)[:, np.newaxis]\n",
    "result = model(predict * clf.coef_ + clf.intercept_).ravel()\n",
    "result"
   ]
  },
  {
   "cell_type": "code",
   "execution_count": 78,
   "metadata": {},
   "outputs": [
    {
     "data": {
      "text/plain": [
       "array([ -3.41974421e-07,  -3.42210021e-07,  -3.42445509e-07,\n",
       "        -3.42680886e-07,  -3.42916154e-07])"
      ]
     },
     "execution_count": 78,
     "metadata": {},
     "output_type": "execute_result"
    }
   ],
   "source": [
    "clf.intercept_"
   ]
  },
  {
   "cell_type": "code",
   "execution_count": 79,
   "metadata": {},
   "outputs": [
    {
     "data": {
      "text/plain": [
       "array([[-1.38613094, -1.38682056, -1.38751017, -1.38819979, -1.38888941,\n",
       "        -1.38957902, -1.39026864, -1.39095826],\n",
       "       [-1.38551008, -1.38619939, -1.3868887 , -1.38757801, -1.38826732,\n",
       "        -1.38895663, -1.38964593, -1.39033524],\n",
       "       [-1.38488946, -1.38557846, -1.38626746, -1.38695646, -1.38764546,\n",
       "        -1.38833446, -1.38902346, -1.38971246],\n",
       "       [-1.38426907, -1.38495776, -1.38564645, -1.38633514, -1.38702383,\n",
       "        -1.38771252, -1.38840121, -1.3890899 ],\n",
       "       [-1.3836489 , -1.38433729, -1.38502567, -1.38571405, -1.38640243,\n",
       "        -1.38709082, -1.3877792 , -1.38846758]])"
      ]
     },
     "execution_count": 79,
     "metadata": {},
     "output_type": "execute_result"
    }
   ],
   "source": [
    "predict=np.arange(2010,2018)\n",
    "predict * clf.coef_# + clf.intercept_"
   ]
  },
  {
   "cell_type": "code",
   "execution_count": null,
   "metadata": {
    "collapsed": true
   },
   "outputs": [],
   "source": [
    "data = {'año':[2010,2011,2012,2013,2014], 'n_doctores':[433,474,584,630,650]}\n",
    "data_df = pd.DataFrame(data)\n",
    "\n",
    "data_df.plot(kind='line', x='año', y='n_doctores')"
   ]
  },
  {
   "cell_type": "markdown",
   "metadata": {},
   "source": [
    "## Analisis base de datos SIES"
   ]
  },
  {
   "cell_type": "code",
   "execution_count": 117,
   "metadata": {},
   "outputs": [
    {
     "name": "stderr",
     "output_type": "stream",
     "text": [
      "/Users/rmunoz/anaconda3/lib/python3.6/site-packages/IPython/core/interactiveshell.py:2698: DtypeWarning: Columns (19) have mixed types. Specify dtype option on import or set low_memory=False.\n",
      "  interactivity=interactivity, compiler=compiler, result=result)\n"
     ]
    }
   ],
   "source": [
    "data_file=\"data/titulado_2007-2016_web_17-07-2017_.csv\"\n",
    "data_df=pd.read_csv(data_file, header=0, sep=';')"
   ]
  },
  {
   "cell_type": "code",
   "execution_count": 118,
   "metadata": {},
   "outputs": [
    {
     "data": {
      "text/html": [
       "<div>\n",
       "<style scoped>\n",
       "    .dataframe tbody tr th:only-of-type {\n",
       "        vertical-align: middle;\n",
       "    }\n",
       "\n",
       "    .dataframe tbody tr th {\n",
       "        vertical-align: top;\n",
       "    }\n",
       "\n",
       "    .dataframe thead th {\n",
       "        text-align: right;\n",
       "    }\n",
       "</style>\n",
       "<table border=\"1\" class=\"dataframe\">\n",
       "  <thead>\n",
       "    <tr style=\"text-align: right;\">\n",
       "      <th></th>\n",
       "      <th>AÑO</th>\n",
       "      <th>TOTAL TITULADOS</th>\n",
       "      <th>TITULADOS MUJERES POR PROGRAMA</th>\n",
       "      <th>TITULADOS HOMBRES POR PROGRAMA</th>\n",
       "      <th>CLASIFICACIÓN INSTITUCIÓN NIVEL 1</th>\n",
       "      <th>CLASIFICACIÓN INSTITUCIÓN NIVEL 2</th>\n",
       "      <th>CLASIFICACIÓN INSTITUCIÓN NIVEL 3</th>\n",
       "      <th>CÓDIGO INSTITUCIÓN</th>\n",
       "      <th>NOMBRE INSTITUCIÓN</th>\n",
       "      <th>CIUDAD</th>\n",
       "      <th>REGIÓN</th>\n",
       "      <th>NOMBRE CARRERA</th>\n",
       "      <th>ÁREA DEL CONOCIMIENTO</th>\n",
       "      <th>OECD ÁREA</th>\n",
       "      <th>OECD SUBAREA</th>\n",
       "      <th>ÁREA CARRERA GENÉRICA</th>\n",
       "      <th>NIVEL GLOBAL</th>\n",
       "      <th>CARRERA CLASIFICACIÓN NIVEL 1</th>\n",
       "      <th>CARRERA CLASIFICACIÓN NIVEL 2</th>\n",
       "      <th>MODALIDAD</th>\n",
       "      <th>JORNADA</th>\n",
       "      <th>TIPO DE PLAN DE LA CARRERA</th>\n",
       "      <th>DURACIÓN ESTUDIO CARRERA</th>\n",
       "      <th>DURACIÓN TOTAL DE LA CARRERA</th>\n",
       "      <th>CÓDIGO CARRERA</th>\n",
       "      <th>TOTAL RANGO EDAD</th>\n",
       "      <th>RANGO DE EDAD 15 A 19 AÑOS</th>\n",
       "      <th>RANGO DE EDAD 20 A 24 AÑOS</th>\n",
       "      <th>RANGO DE EDAD 25 A 29 AÑOS</th>\n",
       "      <th>RANGO DE EDAD 30 A 34 AÑOS</th>\n",
       "      <th>RANGO DE EDAD 35 A 39 AÑOS</th>\n",
       "      <th>RANGO DE EDAD 40 Y MÁS AÑOS</th>\n",
       "      <th>RANGO DE EDAD SIN INFORMACIÓN</th>\n",
       "      <th>PROMEDIO EDAD CARRERA</th>\n",
       "      <th>PROMEDIO EDAD MUJER</th>\n",
       "      <th>PROMEDIO EDAD HOMBRE</th>\n",
       "    </tr>\n",
       "  </thead>\n",
       "  <tbody>\n",
       "    <tr>\n",
       "      <th>0</th>\n",
       "      <td>TIT_2007</td>\n",
       "      <td>14</td>\n",
       "      <td>9.0</td>\n",
       "      <td>5.0</td>\n",
       "      <td>Universidades</td>\n",
       "      <td>Universidades Privadas</td>\n",
       "      <td>Universidades Privadas</td>\n",
       "      <td>1</td>\n",
       "      <td>UNIVERSIDAD GABRIELA MISTRAL</td>\n",
       "      <td>SANTIAGO</td>\n",
       "      <td>REGIÓN METROPOLITANA</td>\n",
       "      <td>CONTADOR AUDITOR</td>\n",
       "      <td>Administración y Comercio</td>\n",
       "      <td>Ciencias Sociales, Enseñanza Comercial y Derecho</td>\n",
       "      <td>Enseñanza Comercial y Administración</td>\n",
       "      <td>Contador Auditor</td>\n",
       "      <td>Pregrado</td>\n",
       "      <td>Profesional Con Licenciatura</td>\n",
       "      <td>Carreras Profesionales</td>\n",
       "      <td>NaN</td>\n",
       "      <td>Vespertino</td>\n",
       "      <td>Plan Regular</td>\n",
       "      <td>8.0</td>\n",
       "      <td>9.0</td>\n",
       "      <td>A2007_C_0011010022</td>\n",
       "      <td>14</td>\n",
       "      <td>NaN</td>\n",
       "      <td>NaN</td>\n",
       "      <td>4.0</td>\n",
       "      <td>5.0</td>\n",
       "      <td>4.0</td>\n",
       "      <td>1.0</td>\n",
       "      <td>NaN</td>\n",
       "      <td>33,5</td>\n",
       "      <td>33,9</td>\n",
       "      <td>32,8</td>\n",
       "    </tr>\n",
       "    <tr>\n",
       "      <th>1</th>\n",
       "      <td>TIT_2007</td>\n",
       "      <td>7</td>\n",
       "      <td>2.0</td>\n",
       "      <td>5.0</td>\n",
       "      <td>Universidades</td>\n",
       "      <td>Universidades Privadas</td>\n",
       "      <td>Universidades Privadas</td>\n",
       "      <td>1</td>\n",
       "      <td>UNIVERSIDAD GABRIELA MISTRAL</td>\n",
       "      <td>PUERTO VARAS</td>\n",
       "      <td>X REGIÓN</td>\n",
       "      <td>P/E INGENIERIA COMERCIAL PARA CONTADORES AUDITORES E INGENIEROS DE EJECUCION EN ADMINISTRACION D...</td>\n",
       "      <td>Administración y Comercio</td>\n",
       "      <td>Ciencias Sociales, Enseñanza Comercial y Derecho</td>\n",
       "      <td>Enseñanza Comercial y Administración</td>\n",
       "      <td>Ingeniería Comercial</td>\n",
       "      <td>Pregrado</td>\n",
       "      <td>Profesional Con Licenciatura</td>\n",
       "      <td>Carreras Profesionales</td>\n",
       "      <td>NaN</td>\n",
       "      <td>Vespertino</td>\n",
       "      <td>Plan Especial</td>\n",
       "      <td>3.0</td>\n",
       "      <td>4.0</td>\n",
       "      <td>A2007_C_0011020412</td>\n",
       "      <td>7</td>\n",
       "      <td>NaN</td>\n",
       "      <td>NaN</td>\n",
       "      <td>2.0</td>\n",
       "      <td>2.0</td>\n",
       "      <td>1.0</td>\n",
       "      <td>2.0</td>\n",
       "      <td>NaN</td>\n",
       "      <td>33,7</td>\n",
       "      <td>31,5</td>\n",
       "      <td>34,6</td>\n",
       "    </tr>\n",
       "    <tr>\n",
       "      <th>2</th>\n",
       "      <td>TIT_2007</td>\n",
       "      <td>4</td>\n",
       "      <td>3.0</td>\n",
       "      <td>1.0</td>\n",
       "      <td>Universidades</td>\n",
       "      <td>Universidades Privadas</td>\n",
       "      <td>Universidades Privadas</td>\n",
       "      <td>1</td>\n",
       "      <td>UNIVERSIDAD GABRIELA MISTRAL</td>\n",
       "      <td>PUERTO VARAS</td>\n",
       "      <td>X REGIÓN</td>\n",
       "      <td>INGENIERIA DE EJECUCION EN ADMINISTRACION DE EMPRESAS</td>\n",
       "      <td>Administración y Comercio</td>\n",
       "      <td>Ciencias Sociales, Enseñanza Comercial y Derecho</td>\n",
       "      <td>Enseñanza Comercial y Administración</td>\n",
       "      <td>Administración de Empresas e Ing. Asociadas</td>\n",
       "      <td>Pregrado</td>\n",
       "      <td>Profesional Sin Licenciatura</td>\n",
       "      <td>Carreras Profesionales</td>\n",
       "      <td>NaN</td>\n",
       "      <td>Vespertino</td>\n",
       "      <td>Plan Regular</td>\n",
       "      <td>8.0</td>\n",
       "      <td>8.0</td>\n",
       "      <td>A2007_C_0011020202</td>\n",
       "      <td>4</td>\n",
       "      <td>NaN</td>\n",
       "      <td>1.0</td>\n",
       "      <td>3.0</td>\n",
       "      <td>NaN</td>\n",
       "      <td>NaN</td>\n",
       "      <td>NaN</td>\n",
       "      <td>NaN</td>\n",
       "      <td>25,8</td>\n",
       "      <td>25,3</td>\n",
       "      <td>27</td>\n",
       "    </tr>\n",
       "    <tr>\n",
       "      <th>3</th>\n",
       "      <td>TIT_2007</td>\n",
       "      <td>28</td>\n",
       "      <td>14.0</td>\n",
       "      <td>14.0</td>\n",
       "      <td>Universidades</td>\n",
       "      <td>Universidades Privadas</td>\n",
       "      <td>Universidades Privadas</td>\n",
       "      <td>1</td>\n",
       "      <td>UNIVERSIDAD GABRIELA MISTRAL</td>\n",
       "      <td>SANTIAGO</td>\n",
       "      <td>REGIÓN METROPOLITANA</td>\n",
       "      <td>DERECHO</td>\n",
       "      <td>Derecho</td>\n",
       "      <td>Ciencias Sociales, Enseñanza Comercial y Derecho</td>\n",
       "      <td>Derecho</td>\n",
       "      <td>Derecho</td>\n",
       "      <td>Pregrado</td>\n",
       "      <td>Profesional Con Licenciatura</td>\n",
       "      <td>Carreras Profesionales</td>\n",
       "      <td>NaN</td>\n",
       "      <td>Diurno</td>\n",
       "      <td>Plan Regular</td>\n",
       "      <td>10.0</td>\n",
       "      <td>12.0</td>\n",
       "      <td>A2007_C_0011010031</td>\n",
       "      <td>28</td>\n",
       "      <td>NaN</td>\n",
       "      <td>8.0</td>\n",
       "      <td>12.0</td>\n",
       "      <td>6.0</td>\n",
       "      <td>NaN</td>\n",
       "      <td>2.0</td>\n",
       "      <td>NaN</td>\n",
       "      <td>27,9</td>\n",
       "      <td>27,9</td>\n",
       "      <td>27,9</td>\n",
       "    </tr>\n",
       "    <tr>\n",
       "      <th>4</th>\n",
       "      <td>TIT_2007</td>\n",
       "      <td>17</td>\n",
       "      <td>17.0</td>\n",
       "      <td>NaN</td>\n",
       "      <td>Universidades</td>\n",
       "      <td>Universidades Privadas</td>\n",
       "      <td>Universidades Privadas</td>\n",
       "      <td>1</td>\n",
       "      <td>UNIVERSIDAD GABRIELA MISTRAL</td>\n",
       "      <td>SANTIAGO</td>\n",
       "      <td>REGIÓN METROPOLITANA</td>\n",
       "      <td>LICENCIATURA EN EDUCACION PARVULARIA</td>\n",
       "      <td>Educación</td>\n",
       "      <td>Educación</td>\n",
       "      <td>Ciencias de la Educación</td>\n",
       "      <td>Bachillerato y/o Licenciatura en Educación</td>\n",
       "      <td>Pregrado</td>\n",
       "      <td>Licenciatura No Conducente a Título</td>\n",
       "      <td>Carreras Profesionales</td>\n",
       "      <td>NaN</td>\n",
       "      <td>Diurno</td>\n",
       "      <td>Plan Regular</td>\n",
       "      <td>8.0</td>\n",
       "      <td>9.0</td>\n",
       "      <td>A2007_C_0011010051</td>\n",
       "      <td>17</td>\n",
       "      <td>NaN</td>\n",
       "      <td>8.0</td>\n",
       "      <td>8.0</td>\n",
       "      <td>1.0</td>\n",
       "      <td>NaN</td>\n",
       "      <td>NaN</td>\n",
       "      <td>NaN</td>\n",
       "      <td>25,2</td>\n",
       "      <td>25,2</td>\n",
       "      <td>NaN</td>\n",
       "    </tr>\n",
       "  </tbody>\n",
       "</table>\n",
       "</div>"
      ],
      "text/plain": [
       "        AÑO  TOTAL TITULADOS  TITULADOS MUJERES POR PROGRAMA  \\\n",
       "0  TIT_2007               14                             9.0   \n",
       "1  TIT_2007                7                             2.0   \n",
       "2  TIT_2007                4                             3.0   \n",
       "3  TIT_2007               28                            14.0   \n",
       "4  TIT_2007               17                            17.0   \n",
       "\n",
       "   TITULADOS HOMBRES POR PROGRAMA CLASIFICACIÓN INSTITUCIÓN NIVEL 1  \\\n",
       "0                             5.0                     Universidades   \n",
       "1                             5.0                     Universidades   \n",
       "2                             1.0                     Universidades   \n",
       "3                            14.0                     Universidades   \n",
       "4                             NaN                     Universidades   \n",
       "\n",
       "  CLASIFICACIÓN INSTITUCIÓN NIVEL 2 CLASIFICACIÓN INSTITUCIÓN NIVEL 3  \\\n",
       "0            Universidades Privadas            Universidades Privadas   \n",
       "1            Universidades Privadas            Universidades Privadas   \n",
       "2            Universidades Privadas            Universidades Privadas   \n",
       "3            Universidades Privadas            Universidades Privadas   \n",
       "4            Universidades Privadas            Universidades Privadas   \n",
       "\n",
       "   CÓDIGO INSTITUCIÓN            NOMBRE INSTITUCIÓN        CIUDAD  \\\n",
       "0                   1  UNIVERSIDAD GABRIELA MISTRAL      SANTIAGO   \n",
       "1                   1  UNIVERSIDAD GABRIELA MISTRAL  PUERTO VARAS   \n",
       "2                   1  UNIVERSIDAD GABRIELA MISTRAL  PUERTO VARAS   \n",
       "3                   1  UNIVERSIDAD GABRIELA MISTRAL      SANTIAGO   \n",
       "4                   1  UNIVERSIDAD GABRIELA MISTRAL      SANTIAGO   \n",
       "\n",
       "                 REGIÓN  \\\n",
       "0  REGIÓN METROPOLITANA   \n",
       "1              X REGIÓN   \n",
       "2              X REGIÓN   \n",
       "3  REGIÓN METROPOLITANA   \n",
       "4  REGIÓN METROPOLITANA   \n",
       "\n",
       "                                                                                        NOMBRE CARRERA  \\\n",
       "0                                                                                     CONTADOR AUDITOR   \n",
       "1  P/E INGENIERIA COMERCIAL PARA CONTADORES AUDITORES E INGENIEROS DE EJECUCION EN ADMINISTRACION D...   \n",
       "2                                                INGENIERIA DE EJECUCION EN ADMINISTRACION DE EMPRESAS   \n",
       "3                                                                                              DERECHO   \n",
       "4                                                                 LICENCIATURA EN EDUCACION PARVULARIA   \n",
       "\n",
       "       ÁREA DEL CONOCIMIENTO  \\\n",
       "0  Administración y Comercio   \n",
       "1  Administración y Comercio   \n",
       "2  Administración y Comercio   \n",
       "3                    Derecho   \n",
       "4                  Educación   \n",
       "\n",
       "                                          OECD ÁREA  \\\n",
       "0  Ciencias Sociales, Enseñanza Comercial y Derecho   \n",
       "1  Ciencias Sociales, Enseñanza Comercial y Derecho   \n",
       "2  Ciencias Sociales, Enseñanza Comercial y Derecho   \n",
       "3  Ciencias Sociales, Enseñanza Comercial y Derecho   \n",
       "4                                         Educación   \n",
       "\n",
       "                           OECD SUBAREA  \\\n",
       "0  Enseñanza Comercial y Administración   \n",
       "1  Enseñanza Comercial y Administración   \n",
       "2  Enseñanza Comercial y Administración   \n",
       "3                               Derecho   \n",
       "4              Ciencias de la Educación   \n",
       "\n",
       "                         ÁREA CARRERA GENÉRICA NIVEL GLOBAL  \\\n",
       "0                             Contador Auditor     Pregrado   \n",
       "1                         Ingeniería Comercial     Pregrado   \n",
       "2  Administración de Empresas e Ing. Asociadas     Pregrado   \n",
       "3                                      Derecho     Pregrado   \n",
       "4   Bachillerato y/o Licenciatura en Educación     Pregrado   \n",
       "\n",
       "         CARRERA CLASIFICACIÓN NIVEL 1 CARRERA CLASIFICACIÓN NIVEL 2  \\\n",
       "0         Profesional Con Licenciatura        Carreras Profesionales   \n",
       "1         Profesional Con Licenciatura        Carreras Profesionales   \n",
       "2         Profesional Sin Licenciatura        Carreras Profesionales   \n",
       "3         Profesional Con Licenciatura        Carreras Profesionales   \n",
       "4  Licenciatura No Conducente a Título        Carreras Profesionales   \n",
       "\n",
       "  MODALIDAD     JORNADA TIPO DE PLAN DE LA CARRERA  DURACIÓN ESTUDIO CARRERA  \\\n",
       "0       NaN  Vespertino               Plan Regular                       8.0   \n",
       "1       NaN  Vespertino              Plan Especial                       3.0   \n",
       "2       NaN  Vespertino               Plan Regular                       8.0   \n",
       "3       NaN      Diurno               Plan Regular                      10.0   \n",
       "4       NaN      Diurno               Plan Regular                       8.0   \n",
       "\n",
       "   DURACIÓN TOTAL DE LA CARRERA      CÓDIGO CARRERA  TOTAL RANGO EDAD  \\\n",
       "0                           9.0  A2007_C_0011010022                14   \n",
       "1                           4.0  A2007_C_0011020412                 7   \n",
       "2                           8.0  A2007_C_0011020202                 4   \n",
       "3                          12.0  A2007_C_0011010031                28   \n",
       "4                           9.0  A2007_C_0011010051                17   \n",
       "\n",
       "   RANGO DE EDAD 15 A 19 AÑOS  RANGO DE EDAD 20 A 24 AÑOS  \\\n",
       "0                         NaN                         NaN   \n",
       "1                         NaN                         NaN   \n",
       "2                         NaN                         1.0   \n",
       "3                         NaN                         8.0   \n",
       "4                         NaN                         8.0   \n",
       "\n",
       "   RANGO DE EDAD 25 A 29 AÑOS  RANGO DE EDAD 30 A 34 AÑOS  \\\n",
       "0                         4.0                         5.0   \n",
       "1                         2.0                         2.0   \n",
       "2                         3.0                         NaN   \n",
       "3                        12.0                         6.0   \n",
       "4                         8.0                         1.0   \n",
       "\n",
       "   RANGO DE EDAD 35 A 39 AÑOS  RANGO DE EDAD 40 Y MÁS AÑOS  \\\n",
       "0                         4.0                          1.0   \n",
       "1                         1.0                          2.0   \n",
       "2                         NaN                          NaN   \n",
       "3                         NaN                          2.0   \n",
       "4                         NaN                          NaN   \n",
       "\n",
       "   RANGO DE EDAD SIN INFORMACIÓN PROMEDIO EDAD CARRERA PROMEDIO EDAD MUJER  \\\n",
       "0                            NaN                  33,5                33,9   \n",
       "1                            NaN                  33,7                31,5   \n",
       "2                            NaN                  25,8                25,3   \n",
       "3                            NaN                  27,9                27,9   \n",
       "4                            NaN                  25,2                25,2   \n",
       "\n",
       "  PROMEDIO EDAD HOMBRE  \n",
       "0                 32,8  \n",
       "1                 34,6  \n",
       "2                   27  \n",
       "3                 27,9  \n",
       "4                  NaN  "
      ]
     },
     "execution_count": 118,
     "metadata": {},
     "output_type": "execute_result"
    }
   ],
   "source": [
    "data_df.head()"
   ]
  },
  {
   "cell_type": "code",
   "execution_count": 119,
   "metadata": {},
   "outputs": [
    {
     "data": {
      "text/html": [
       "<div>\n",
       "<style scoped>\n",
       "    .dataframe tbody tr th:only-of-type {\n",
       "        vertical-align: middle;\n",
       "    }\n",
       "\n",
       "    .dataframe tbody tr th {\n",
       "        vertical-align: top;\n",
       "    }\n",
       "\n",
       "    .dataframe thead th {\n",
       "        text-align: right;\n",
       "    }\n",
       "</style>\n",
       "<table border=\"1\" class=\"dataframe\">\n",
       "  <thead>\n",
       "    <tr style=\"text-align: right;\">\n",
       "      <th></th>\n",
       "      <th>AÑO</th>\n",
       "      <th>TOTAL TITULADOS</th>\n",
       "      <th>TITULADOS MUJERES POR PROGRAMA</th>\n",
       "      <th>TITULADOS HOMBRES POR PROGRAMA</th>\n",
       "      <th>CLASIFICACIÓN INSTITUCIÓN NIVEL 1</th>\n",
       "      <th>CLASIFICACIÓN INSTITUCIÓN NIVEL 2</th>\n",
       "      <th>CLASIFICACIÓN INSTITUCIÓN NIVEL 3</th>\n",
       "      <th>CÓDIGO INSTITUCIÓN</th>\n",
       "      <th>NOMBRE INSTITUCIÓN</th>\n",
       "      <th>CIUDAD</th>\n",
       "      <th>REGIÓN</th>\n",
       "      <th>NOMBRE CARRERA</th>\n",
       "      <th>ÁREA DEL CONOCIMIENTO</th>\n",
       "      <th>OECD ÁREA</th>\n",
       "      <th>OECD SUBAREA</th>\n",
       "      <th>ÁREA CARRERA GENÉRICA</th>\n",
       "      <th>NIVEL GLOBAL</th>\n",
       "      <th>CARRERA CLASIFICACIÓN NIVEL 1</th>\n",
       "      <th>CARRERA CLASIFICACIÓN NIVEL 2</th>\n",
       "      <th>MODALIDAD</th>\n",
       "      <th>JORNADA</th>\n",
       "      <th>TIPO DE PLAN DE LA CARRERA</th>\n",
       "      <th>DURACIÓN ESTUDIO CARRERA</th>\n",
       "      <th>DURACIÓN TOTAL DE LA CARRERA</th>\n",
       "      <th>CÓDIGO CARRERA</th>\n",
       "      <th>TOTAL RANGO EDAD</th>\n",
       "      <th>RANGO DE EDAD 15 A 19 AÑOS</th>\n",
       "      <th>RANGO DE EDAD 20 A 24 AÑOS</th>\n",
       "      <th>RANGO DE EDAD 25 A 29 AÑOS</th>\n",
       "      <th>RANGO DE EDAD 30 A 34 AÑOS</th>\n",
       "      <th>RANGO DE EDAD 35 A 39 AÑOS</th>\n",
       "      <th>RANGO DE EDAD 40 Y MÁS AÑOS</th>\n",
       "      <th>RANGO DE EDAD SIN INFORMACIÓN</th>\n",
       "      <th>PROMEDIO EDAD CARRERA</th>\n",
       "      <th>PROMEDIO EDAD MUJER</th>\n",
       "      <th>PROMEDIO EDAD HOMBRE</th>\n",
       "    </tr>\n",
       "  </thead>\n",
       "  <tbody>\n",
       "    <tr>\n",
       "      <th>0</th>\n",
       "      <td>object</td>\n",
       "      <td>int64</td>\n",
       "      <td>float64</td>\n",
       "      <td>float64</td>\n",
       "      <td>object</td>\n",
       "      <td>object</td>\n",
       "      <td>object</td>\n",
       "      <td>int64</td>\n",
       "      <td>object</td>\n",
       "      <td>object</td>\n",
       "      <td>object</td>\n",
       "      <td>object</td>\n",
       "      <td>object</td>\n",
       "      <td>object</td>\n",
       "      <td>object</td>\n",
       "      <td>object</td>\n",
       "      <td>object</td>\n",
       "      <td>object</td>\n",
       "      <td>object</td>\n",
       "      <td>object</td>\n",
       "      <td>object</td>\n",
       "      <td>object</td>\n",
       "      <td>float64</td>\n",
       "      <td>float64</td>\n",
       "      <td>object</td>\n",
       "      <td>int64</td>\n",
       "      <td>float64</td>\n",
       "      <td>float64</td>\n",
       "      <td>float64</td>\n",
       "      <td>float64</td>\n",
       "      <td>float64</td>\n",
       "      <td>float64</td>\n",
       "      <td>float64</td>\n",
       "      <td>object</td>\n",
       "      <td>object</td>\n",
       "      <td>object</td>\n",
       "    </tr>\n",
       "  </tbody>\n",
       "</table>\n",
       "</div>"
      ],
      "text/plain": [
       "      AÑO TOTAL TITULADOS TITULADOS MUJERES POR PROGRAMA  \\\n",
       "0  object           int64                        float64   \n",
       "\n",
       "  TITULADOS HOMBRES POR PROGRAMA CLASIFICACIÓN INSTITUCIÓN NIVEL 1  \\\n",
       "0                        float64                            object   \n",
       "\n",
       "  CLASIFICACIÓN INSTITUCIÓN NIVEL 2 CLASIFICACIÓN INSTITUCIÓN NIVEL 3  \\\n",
       "0                            object                            object   \n",
       "\n",
       "  CÓDIGO INSTITUCIÓN NOMBRE INSTITUCIÓN  CIUDAD  REGIÓN NOMBRE CARRERA  \\\n",
       "0              int64             object  object  object         object   \n",
       "\n",
       "  ÁREA DEL CONOCIMIENTO OECD ÁREA OECD SUBAREA ÁREA CARRERA GENÉRICA  \\\n",
       "0                object    object       object                object   \n",
       "\n",
       "  NIVEL GLOBAL CARRERA CLASIFICACIÓN NIVEL 1 CARRERA CLASIFICACIÓN NIVEL 2  \\\n",
       "0       object                        object                        object   \n",
       "\n",
       "  MODALIDAD JORNADA TIPO DE PLAN DE LA CARRERA DURACIÓN ESTUDIO CARRERA  \\\n",
       "0    object  object                     object                  float64   \n",
       "\n",
       "  DURACIÓN TOTAL DE LA CARRERA CÓDIGO CARRERA TOTAL RANGO EDAD  \\\n",
       "0                      float64         object            int64   \n",
       "\n",
       "  RANGO DE EDAD 15 A 19 AÑOS RANGO DE EDAD 20 A 24 AÑOS  \\\n",
       "0                    float64                    float64   \n",
       "\n",
       "  RANGO DE EDAD 25 A 29 AÑOS RANGO DE EDAD 30 A 34 AÑOS  \\\n",
       "0                    float64                    float64   \n",
       "\n",
       "  RANGO DE EDAD 35 A 39 AÑOS RANGO DE EDAD 40 Y MÁS AÑOS  \\\n",
       "0                    float64                     float64   \n",
       "\n",
       "  RANGO DE EDAD SIN INFORMACIÓN PROMEDIO EDAD CARRERA PROMEDIO EDAD MUJER  \\\n",
       "0                       float64                object              object   \n",
       "\n",
       "  PROMEDIO EDAD HOMBRE  \n",
       "0               object  "
      ]
     },
     "execution_count": 119,
     "metadata": {},
     "output_type": "execute_result"
    }
   ],
   "source": [
    "data_df.dtypes.to_frame().transpose()"
   ]
  },
  {
   "cell_type": "code",
   "execution_count": 122,
   "metadata": {},
   "outputs": [
    {
     "data": {
      "text/plain": [
       "array(['TIT_2007', 'TIT_2008', 'TIT_2009', 'TIT_2010', 'TIT_2011',\n",
       "       'TIT_2012', 'TIT_2013', 'TIT_2014', 'TIT_2015', 'TIT_2016'], dtype=object)"
      ]
     },
     "execution_count": 122,
     "metadata": {},
     "output_type": "execute_result"
    }
   ],
   "source": [
    "data_df['AÑO'].unique()"
   ]
  },
  {
   "cell_type": "code",
   "execution_count": 120,
   "metadata": {},
   "outputs": [
    {
     "data": {
      "text/plain": [
       "array(['Pregrado', 'Postítulo', 'Postgrado'], dtype=object)"
      ]
     },
     "execution_count": 120,
     "metadata": {},
     "output_type": "execute_result"
    }
   ],
   "source": [
    "data_df['NIVEL GLOBAL'].unique()"
   ]
  },
  {
   "cell_type": "code",
   "execution_count": 121,
   "metadata": {},
   "outputs": [
    {
     "data": {
      "text/plain": [
       "array(['Profesional Con Licenciatura', 'Profesional Sin Licenciatura',\n",
       "       'Licenciatura No Conducente a Título', 'Postítulo', 'Magister',\n",
       "       'Diplomado (superior a un semestre)', 'Técnico de Nivel Superior',\n",
       "       'Especialidad Médica U Odontológica', 'Doctorado'], dtype=object)"
      ]
     },
     "execution_count": 121,
     "metadata": {},
     "output_type": "execute_result"
    }
   ],
   "source": [
    "data_df['CARRERA CLASIFICACIÓN NIVEL 1'].unique()"
   ]
  },
  {
   "cell_type": "code",
   "execution_count": 127,
   "metadata": {},
   "outputs": [
    {
     "data": {
      "text/plain": [
       "array(['Carreras Profesionales', 'Postítulo', 'Magister',\n",
       "       'Carreras Técnicas', 'Doctorado'], dtype=object)"
      ]
     },
     "execution_count": 127,
     "metadata": {},
     "output_type": "execute_result"
    }
   ],
   "source": [
    "data_df['CARRERA CLASIFICACIÓN NIVEL 2'].unique()"
   ]
  },
  {
   "cell_type": "code",
   "execution_count": 123,
   "metadata": {
    "collapsed": true
   },
   "outputs": [],
   "source": [
    "año_str={'TIT_2007':2017, 'TIT_2008':2008, 'TIT_2009':2009, 'TIT_2010':2010, 'TIT_2011':2011,\n",
    "       'TIT_2012':2012, 'TIT_2013':2013, 'TIT_2014':2014, 'TIT_2015':2015, 'TIT_2016':2016}\n",
    "data_df['año'] = data_df['AÑO'].map(año_str)"
   ]
  },
  {
   "cell_type": "code",
   "execution_count": 125,
   "metadata": {},
   "outputs": [
    {
     "data": {
      "text/plain": [
       "array([2017, 2008, 2009, 2010, 2011, 2012, 2013, 2014, 2015, 2016])"
      ]
     },
     "execution_count": 125,
     "metadata": {},
     "output_type": "execute_result"
    }
   ],
   "source": [
    "data_df['año'].unique()"
   ]
  },
  {
   "cell_type": "code",
   "execution_count": 126,
   "metadata": {},
   "outputs": [
    {
     "data": {
      "text/plain": [
       "año\n",
       "2008    374\n",
       "2009    383\n",
       "2010    426\n",
       "2011    492\n",
       "2012    604\n",
       "2013    639\n",
       "2014    619\n",
       "2015    692\n",
       "2016    704\n",
       "2017    315\n",
       "Name: TOTAL TITULADOS, dtype: int64"
      ]
     },
     "execution_count": 126,
     "metadata": {},
     "output_type": "execute_result"
    }
   ],
   "source": [
    "data_df[data_df['CARRERA CLASIFICACIÓN NIVEL 1']=='Doctorado'].groupby('año')['TOTAL TITULADOS'].sum()"
   ]
  },
  {
   "cell_type": "code",
   "execution_count": null,
   "metadata": {
    "collapsed": true
   },
   "outputs": [],
   "source": []
  }
 ],
 "metadata": {
  "kernelspec": {
   "display_name": "Python 3",
   "language": "python",
   "name": "python3"
  },
  "language_info": {
   "codemirror_mode": {
    "name": "ipython",
    "version": 3
   },
   "file_extension": ".py",
   "mimetype": "text/x-python",
   "name": "python",
   "nbconvert_exporter": "python",
   "pygments_lexer": "ipython3",
   "version": "3.6.4"
  }
 },
 "nbformat": 4,
 "nbformat_minor": 2
}

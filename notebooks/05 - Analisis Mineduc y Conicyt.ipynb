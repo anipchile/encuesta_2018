{
 "cells": [
  {
   "cell_type": "code",
   "execution_count": 1,
   "metadata": {},
   "outputs": [
    {
     "data": {
      "text/plain": [
       "<matplotlib.figure.Figure at 0x1050ccb00>"
      ]
     },
     "metadata": {},
     "output_type": "display_data"
    }
   ],
   "source": [
    "import numpy as np\n",
    "import pandas as pd\n",
    "\n",
    "from sklearn.preprocessing import PolynomialFeatures\n",
    "from sklearn import linear_model\n",
    "from scipy.optimize import curve_fit\n",
    "\n",
    "import matplotlib.pyplot as plt\n",
    "import matplotlib.ticker as ticker\n",
    "import seaborn as sns\n",
    "\n",
    "%matplotlib inline\n",
    "params = {'legend.fontsize': 'large',\n",
    "          'figure.figsize': (8, 6),\n",
    "         'axes.labelsize': 'large',\n",
    "         'axes.titlesize':'large',\n",
    "         'xtick.labelsize':'large',\n",
    "         'ytick.labelsize':'large',\n",
    "         'axes.titlepad': 16,\n",
    "         'axes.titlesize': 20,\n",
    "         'axes.labelpad': 16,\n",
    "         'axes.labelsize': 16,\n",
    "         'lines.linewidth': 3,\n",
    "         'lines.markersize': 8,\n",
    "         'xtick.labelsize': 12,\n",
    "         'ytick.labelsize': 12}\n",
    "plt.rcParams.update(params)\n",
    "\n",
    "sns.despine()\n",
    "\n",
    "pd.set_option('display.max_columns', None)\n",
    "pd.set_option('max_colwidth', 100)"
   ]
  },
  {
   "cell_type": "markdown",
   "metadata": {},
   "source": [
    "## 1. Analisis base de datos SIES"
   ]
  },
  {
   "cell_type": "code",
   "execution_count": 2,
   "metadata": {},
   "outputs": [
    {
     "name": "stderr",
     "output_type": "stream",
     "text": [
      "/Users/rmunoz/anaconda3/lib/python3.6/site-packages/IPython/core/interactiveshell.py:2698: DtypeWarning: Columns (19) have mixed types. Specify dtype option on import or set low_memory=False.\n",
      "  interactivity=interactivity, compiler=compiler, result=result)\n"
     ]
    }
   ],
   "source": [
    "data_file=\"data/titulado_2007-2016_web_17-07-2017_.csv\"\n",
    "data_df=pd.read_csv(data_file, header=0, sep=';')"
   ]
  },
  {
   "cell_type": "code",
   "execution_count": 3,
   "metadata": {},
   "outputs": [
    {
     "data": {
      "text/html": [
       "<div>\n",
       "<style scoped>\n",
       "    .dataframe tbody tr th:only-of-type {\n",
       "        vertical-align: middle;\n",
       "    }\n",
       "\n",
       "    .dataframe tbody tr th {\n",
       "        vertical-align: top;\n",
       "    }\n",
       "\n",
       "    .dataframe thead th {\n",
       "        text-align: right;\n",
       "    }\n",
       "</style>\n",
       "<table border=\"1\" class=\"dataframe\">\n",
       "  <thead>\n",
       "    <tr style=\"text-align: right;\">\n",
       "      <th></th>\n",
       "      <th>AÑO</th>\n",
       "      <th>TOTAL TITULADOS</th>\n",
       "      <th>TITULADOS MUJERES POR PROGRAMA</th>\n",
       "      <th>TITULADOS HOMBRES POR PROGRAMA</th>\n",
       "      <th>CLASIFICACIÓN INSTITUCIÓN NIVEL 1</th>\n",
       "      <th>CLASIFICACIÓN INSTITUCIÓN NIVEL 2</th>\n",
       "      <th>CLASIFICACIÓN INSTITUCIÓN NIVEL 3</th>\n",
       "      <th>CÓDIGO INSTITUCIÓN</th>\n",
       "      <th>NOMBRE INSTITUCIÓN</th>\n",
       "      <th>CIUDAD</th>\n",
       "      <th>REGIÓN</th>\n",
       "      <th>NOMBRE CARRERA</th>\n",
       "      <th>ÁREA DEL CONOCIMIENTO</th>\n",
       "      <th>OECD ÁREA</th>\n",
       "      <th>OECD SUBAREA</th>\n",
       "      <th>ÁREA CARRERA GENÉRICA</th>\n",
       "      <th>NIVEL GLOBAL</th>\n",
       "      <th>CARRERA CLASIFICACIÓN NIVEL 1</th>\n",
       "      <th>CARRERA CLASIFICACIÓN NIVEL 2</th>\n",
       "      <th>MODALIDAD</th>\n",
       "      <th>JORNADA</th>\n",
       "      <th>TIPO DE PLAN DE LA CARRERA</th>\n",
       "      <th>DURACIÓN ESTUDIO CARRERA</th>\n",
       "      <th>DURACIÓN TOTAL DE LA CARRERA</th>\n",
       "      <th>CÓDIGO CARRERA</th>\n",
       "      <th>TOTAL RANGO EDAD</th>\n",
       "      <th>RANGO DE EDAD 15 A 19 AÑOS</th>\n",
       "      <th>RANGO DE EDAD 20 A 24 AÑOS</th>\n",
       "      <th>RANGO DE EDAD 25 A 29 AÑOS</th>\n",
       "      <th>RANGO DE EDAD 30 A 34 AÑOS</th>\n",
       "      <th>RANGO DE EDAD 35 A 39 AÑOS</th>\n",
       "      <th>RANGO DE EDAD 40 Y MÁS AÑOS</th>\n",
       "      <th>RANGO DE EDAD SIN INFORMACIÓN</th>\n",
       "      <th>PROMEDIO EDAD CARRERA</th>\n",
       "      <th>PROMEDIO EDAD MUJER</th>\n",
       "      <th>PROMEDIO EDAD HOMBRE</th>\n",
       "    </tr>\n",
       "  </thead>\n",
       "  <tbody>\n",
       "    <tr>\n",
       "      <th>0</th>\n",
       "      <td>TIT_2007</td>\n",
       "      <td>14</td>\n",
       "      <td>9.0</td>\n",
       "      <td>5.0</td>\n",
       "      <td>Universidades</td>\n",
       "      <td>Universidades Privadas</td>\n",
       "      <td>Universidades Privadas</td>\n",
       "      <td>1</td>\n",
       "      <td>UNIVERSIDAD GABRIELA MISTRAL</td>\n",
       "      <td>SANTIAGO</td>\n",
       "      <td>REGIÓN METROPOLITANA</td>\n",
       "      <td>CONTADOR AUDITOR</td>\n",
       "      <td>Administración y Comercio</td>\n",
       "      <td>Ciencias Sociales, Enseñanza Comercial y Derecho</td>\n",
       "      <td>Enseñanza Comercial y Administración</td>\n",
       "      <td>Contador Auditor</td>\n",
       "      <td>Pregrado</td>\n",
       "      <td>Profesional Con Licenciatura</td>\n",
       "      <td>Carreras Profesionales</td>\n",
       "      <td>NaN</td>\n",
       "      <td>Vespertino</td>\n",
       "      <td>Plan Regular</td>\n",
       "      <td>8.0</td>\n",
       "      <td>9.0</td>\n",
       "      <td>A2007_C_0011010022</td>\n",
       "      <td>14</td>\n",
       "      <td>NaN</td>\n",
       "      <td>NaN</td>\n",
       "      <td>4.0</td>\n",
       "      <td>5.0</td>\n",
       "      <td>4.0</td>\n",
       "      <td>1.0</td>\n",
       "      <td>NaN</td>\n",
       "      <td>33,5</td>\n",
       "      <td>33,9</td>\n",
       "      <td>32,8</td>\n",
       "    </tr>\n",
       "    <tr>\n",
       "      <th>1</th>\n",
       "      <td>TIT_2007</td>\n",
       "      <td>7</td>\n",
       "      <td>2.0</td>\n",
       "      <td>5.0</td>\n",
       "      <td>Universidades</td>\n",
       "      <td>Universidades Privadas</td>\n",
       "      <td>Universidades Privadas</td>\n",
       "      <td>1</td>\n",
       "      <td>UNIVERSIDAD GABRIELA MISTRAL</td>\n",
       "      <td>PUERTO VARAS</td>\n",
       "      <td>X REGIÓN</td>\n",
       "      <td>P/E INGENIERIA COMERCIAL PARA CONTADORES AUDITORES E INGENIEROS DE EJECUCION EN ADMINISTRACION D...</td>\n",
       "      <td>Administración y Comercio</td>\n",
       "      <td>Ciencias Sociales, Enseñanza Comercial y Derecho</td>\n",
       "      <td>Enseñanza Comercial y Administración</td>\n",
       "      <td>Ingeniería Comercial</td>\n",
       "      <td>Pregrado</td>\n",
       "      <td>Profesional Con Licenciatura</td>\n",
       "      <td>Carreras Profesionales</td>\n",
       "      <td>NaN</td>\n",
       "      <td>Vespertino</td>\n",
       "      <td>Plan Especial</td>\n",
       "      <td>3.0</td>\n",
       "      <td>4.0</td>\n",
       "      <td>A2007_C_0011020412</td>\n",
       "      <td>7</td>\n",
       "      <td>NaN</td>\n",
       "      <td>NaN</td>\n",
       "      <td>2.0</td>\n",
       "      <td>2.0</td>\n",
       "      <td>1.0</td>\n",
       "      <td>2.0</td>\n",
       "      <td>NaN</td>\n",
       "      <td>33,7</td>\n",
       "      <td>31,5</td>\n",
       "      <td>34,6</td>\n",
       "    </tr>\n",
       "    <tr>\n",
       "      <th>2</th>\n",
       "      <td>TIT_2007</td>\n",
       "      <td>4</td>\n",
       "      <td>3.0</td>\n",
       "      <td>1.0</td>\n",
       "      <td>Universidades</td>\n",
       "      <td>Universidades Privadas</td>\n",
       "      <td>Universidades Privadas</td>\n",
       "      <td>1</td>\n",
       "      <td>UNIVERSIDAD GABRIELA MISTRAL</td>\n",
       "      <td>PUERTO VARAS</td>\n",
       "      <td>X REGIÓN</td>\n",
       "      <td>INGENIERIA DE EJECUCION EN ADMINISTRACION DE EMPRESAS</td>\n",
       "      <td>Administración y Comercio</td>\n",
       "      <td>Ciencias Sociales, Enseñanza Comercial y Derecho</td>\n",
       "      <td>Enseñanza Comercial y Administración</td>\n",
       "      <td>Administración de Empresas e Ing. Asociadas</td>\n",
       "      <td>Pregrado</td>\n",
       "      <td>Profesional Sin Licenciatura</td>\n",
       "      <td>Carreras Profesionales</td>\n",
       "      <td>NaN</td>\n",
       "      <td>Vespertino</td>\n",
       "      <td>Plan Regular</td>\n",
       "      <td>8.0</td>\n",
       "      <td>8.0</td>\n",
       "      <td>A2007_C_0011020202</td>\n",
       "      <td>4</td>\n",
       "      <td>NaN</td>\n",
       "      <td>1.0</td>\n",
       "      <td>3.0</td>\n",
       "      <td>NaN</td>\n",
       "      <td>NaN</td>\n",
       "      <td>NaN</td>\n",
       "      <td>NaN</td>\n",
       "      <td>25,8</td>\n",
       "      <td>25,3</td>\n",
       "      <td>27</td>\n",
       "    </tr>\n",
       "    <tr>\n",
       "      <th>3</th>\n",
       "      <td>TIT_2007</td>\n",
       "      <td>28</td>\n",
       "      <td>14.0</td>\n",
       "      <td>14.0</td>\n",
       "      <td>Universidades</td>\n",
       "      <td>Universidades Privadas</td>\n",
       "      <td>Universidades Privadas</td>\n",
       "      <td>1</td>\n",
       "      <td>UNIVERSIDAD GABRIELA MISTRAL</td>\n",
       "      <td>SANTIAGO</td>\n",
       "      <td>REGIÓN METROPOLITANA</td>\n",
       "      <td>DERECHO</td>\n",
       "      <td>Derecho</td>\n",
       "      <td>Ciencias Sociales, Enseñanza Comercial y Derecho</td>\n",
       "      <td>Derecho</td>\n",
       "      <td>Derecho</td>\n",
       "      <td>Pregrado</td>\n",
       "      <td>Profesional Con Licenciatura</td>\n",
       "      <td>Carreras Profesionales</td>\n",
       "      <td>NaN</td>\n",
       "      <td>Diurno</td>\n",
       "      <td>Plan Regular</td>\n",
       "      <td>10.0</td>\n",
       "      <td>12.0</td>\n",
       "      <td>A2007_C_0011010031</td>\n",
       "      <td>28</td>\n",
       "      <td>NaN</td>\n",
       "      <td>8.0</td>\n",
       "      <td>12.0</td>\n",
       "      <td>6.0</td>\n",
       "      <td>NaN</td>\n",
       "      <td>2.0</td>\n",
       "      <td>NaN</td>\n",
       "      <td>27,9</td>\n",
       "      <td>27,9</td>\n",
       "      <td>27,9</td>\n",
       "    </tr>\n",
       "    <tr>\n",
       "      <th>4</th>\n",
       "      <td>TIT_2007</td>\n",
       "      <td>17</td>\n",
       "      <td>17.0</td>\n",
       "      <td>NaN</td>\n",
       "      <td>Universidades</td>\n",
       "      <td>Universidades Privadas</td>\n",
       "      <td>Universidades Privadas</td>\n",
       "      <td>1</td>\n",
       "      <td>UNIVERSIDAD GABRIELA MISTRAL</td>\n",
       "      <td>SANTIAGO</td>\n",
       "      <td>REGIÓN METROPOLITANA</td>\n",
       "      <td>LICENCIATURA EN EDUCACION PARVULARIA</td>\n",
       "      <td>Educación</td>\n",
       "      <td>Educación</td>\n",
       "      <td>Ciencias de la Educación</td>\n",
       "      <td>Bachillerato y/o Licenciatura en Educación</td>\n",
       "      <td>Pregrado</td>\n",
       "      <td>Licenciatura No Conducente a Título</td>\n",
       "      <td>Carreras Profesionales</td>\n",
       "      <td>NaN</td>\n",
       "      <td>Diurno</td>\n",
       "      <td>Plan Regular</td>\n",
       "      <td>8.0</td>\n",
       "      <td>9.0</td>\n",
       "      <td>A2007_C_0011010051</td>\n",
       "      <td>17</td>\n",
       "      <td>NaN</td>\n",
       "      <td>8.0</td>\n",
       "      <td>8.0</td>\n",
       "      <td>1.0</td>\n",
       "      <td>NaN</td>\n",
       "      <td>NaN</td>\n",
       "      <td>NaN</td>\n",
       "      <td>25,2</td>\n",
       "      <td>25,2</td>\n",
       "      <td>NaN</td>\n",
       "    </tr>\n",
       "  </tbody>\n",
       "</table>\n",
       "</div>"
      ],
      "text/plain": [
       "        AÑO  TOTAL TITULADOS  TITULADOS MUJERES POR PROGRAMA  \\\n",
       "0  TIT_2007               14                             9.0   \n",
       "1  TIT_2007                7                             2.0   \n",
       "2  TIT_2007                4                             3.0   \n",
       "3  TIT_2007               28                            14.0   \n",
       "4  TIT_2007               17                            17.0   \n",
       "\n",
       "   TITULADOS HOMBRES POR PROGRAMA CLASIFICACIÓN INSTITUCIÓN NIVEL 1  \\\n",
       "0                             5.0                     Universidades   \n",
       "1                             5.0                     Universidades   \n",
       "2                             1.0                     Universidades   \n",
       "3                            14.0                     Universidades   \n",
       "4                             NaN                     Universidades   \n",
       "\n",
       "  CLASIFICACIÓN INSTITUCIÓN NIVEL 2 CLASIFICACIÓN INSTITUCIÓN NIVEL 3  \\\n",
       "0            Universidades Privadas            Universidades Privadas   \n",
       "1            Universidades Privadas            Universidades Privadas   \n",
       "2            Universidades Privadas            Universidades Privadas   \n",
       "3            Universidades Privadas            Universidades Privadas   \n",
       "4            Universidades Privadas            Universidades Privadas   \n",
       "\n",
       "   CÓDIGO INSTITUCIÓN            NOMBRE INSTITUCIÓN        CIUDAD  \\\n",
       "0                   1  UNIVERSIDAD GABRIELA MISTRAL      SANTIAGO   \n",
       "1                   1  UNIVERSIDAD GABRIELA MISTRAL  PUERTO VARAS   \n",
       "2                   1  UNIVERSIDAD GABRIELA MISTRAL  PUERTO VARAS   \n",
       "3                   1  UNIVERSIDAD GABRIELA MISTRAL      SANTIAGO   \n",
       "4                   1  UNIVERSIDAD GABRIELA MISTRAL      SANTIAGO   \n",
       "\n",
       "                 REGIÓN  \\\n",
       "0  REGIÓN METROPOLITANA   \n",
       "1              X REGIÓN   \n",
       "2              X REGIÓN   \n",
       "3  REGIÓN METROPOLITANA   \n",
       "4  REGIÓN METROPOLITANA   \n",
       "\n",
       "                                                                                        NOMBRE CARRERA  \\\n",
       "0                                                                                     CONTADOR AUDITOR   \n",
       "1  P/E INGENIERIA COMERCIAL PARA CONTADORES AUDITORES E INGENIEROS DE EJECUCION EN ADMINISTRACION D...   \n",
       "2                                                INGENIERIA DE EJECUCION EN ADMINISTRACION DE EMPRESAS   \n",
       "3                                                                                              DERECHO   \n",
       "4                                                                 LICENCIATURA EN EDUCACION PARVULARIA   \n",
       "\n",
       "       ÁREA DEL CONOCIMIENTO  \\\n",
       "0  Administración y Comercio   \n",
       "1  Administración y Comercio   \n",
       "2  Administración y Comercio   \n",
       "3                    Derecho   \n",
       "4                  Educación   \n",
       "\n",
       "                                          OECD ÁREA  \\\n",
       "0  Ciencias Sociales, Enseñanza Comercial y Derecho   \n",
       "1  Ciencias Sociales, Enseñanza Comercial y Derecho   \n",
       "2  Ciencias Sociales, Enseñanza Comercial y Derecho   \n",
       "3  Ciencias Sociales, Enseñanza Comercial y Derecho   \n",
       "4                                         Educación   \n",
       "\n",
       "                           OECD SUBAREA  \\\n",
       "0  Enseñanza Comercial y Administración   \n",
       "1  Enseñanza Comercial y Administración   \n",
       "2  Enseñanza Comercial y Administración   \n",
       "3                               Derecho   \n",
       "4              Ciencias de la Educación   \n",
       "\n",
       "                         ÁREA CARRERA GENÉRICA NIVEL GLOBAL  \\\n",
       "0                             Contador Auditor     Pregrado   \n",
       "1                         Ingeniería Comercial     Pregrado   \n",
       "2  Administración de Empresas e Ing. Asociadas     Pregrado   \n",
       "3                                      Derecho     Pregrado   \n",
       "4   Bachillerato y/o Licenciatura en Educación     Pregrado   \n",
       "\n",
       "         CARRERA CLASIFICACIÓN NIVEL 1 CARRERA CLASIFICACIÓN NIVEL 2  \\\n",
       "0         Profesional Con Licenciatura        Carreras Profesionales   \n",
       "1         Profesional Con Licenciatura        Carreras Profesionales   \n",
       "2         Profesional Sin Licenciatura        Carreras Profesionales   \n",
       "3         Profesional Con Licenciatura        Carreras Profesionales   \n",
       "4  Licenciatura No Conducente a Título        Carreras Profesionales   \n",
       "\n",
       "  MODALIDAD     JORNADA TIPO DE PLAN DE LA CARRERA  DURACIÓN ESTUDIO CARRERA  \\\n",
       "0       NaN  Vespertino               Plan Regular                       8.0   \n",
       "1       NaN  Vespertino              Plan Especial                       3.0   \n",
       "2       NaN  Vespertino               Plan Regular                       8.0   \n",
       "3       NaN      Diurno               Plan Regular                      10.0   \n",
       "4       NaN      Diurno               Plan Regular                       8.0   \n",
       "\n",
       "   DURACIÓN TOTAL DE LA CARRERA      CÓDIGO CARRERA  TOTAL RANGO EDAD  \\\n",
       "0                           9.0  A2007_C_0011010022                14   \n",
       "1                           4.0  A2007_C_0011020412                 7   \n",
       "2                           8.0  A2007_C_0011020202                 4   \n",
       "3                          12.0  A2007_C_0011010031                28   \n",
       "4                           9.0  A2007_C_0011010051                17   \n",
       "\n",
       "   RANGO DE EDAD 15 A 19 AÑOS  RANGO DE EDAD 20 A 24 AÑOS  \\\n",
       "0                         NaN                         NaN   \n",
       "1                         NaN                         NaN   \n",
       "2                         NaN                         1.0   \n",
       "3                         NaN                         8.0   \n",
       "4                         NaN                         8.0   \n",
       "\n",
       "   RANGO DE EDAD 25 A 29 AÑOS  RANGO DE EDAD 30 A 34 AÑOS  \\\n",
       "0                         4.0                         5.0   \n",
       "1                         2.0                         2.0   \n",
       "2                         3.0                         NaN   \n",
       "3                        12.0                         6.0   \n",
       "4                         8.0                         1.0   \n",
       "\n",
       "   RANGO DE EDAD 35 A 39 AÑOS  RANGO DE EDAD 40 Y MÁS AÑOS  \\\n",
       "0                         4.0                          1.0   \n",
       "1                         1.0                          2.0   \n",
       "2                         NaN                          NaN   \n",
       "3                         NaN                          2.0   \n",
       "4                         NaN                          NaN   \n",
       "\n",
       "   RANGO DE EDAD SIN INFORMACIÓN PROMEDIO EDAD CARRERA PROMEDIO EDAD MUJER  \\\n",
       "0                            NaN                  33,5                33,9   \n",
       "1                            NaN                  33,7                31,5   \n",
       "2                            NaN                  25,8                25,3   \n",
       "3                            NaN                  27,9                27,9   \n",
       "4                            NaN                  25,2                25,2   \n",
       "\n",
       "  PROMEDIO EDAD HOMBRE  \n",
       "0                 32,8  \n",
       "1                 34,6  \n",
       "2                   27  \n",
       "3                 27,9  \n",
       "4                  NaN  "
      ]
     },
     "execution_count": 3,
     "metadata": {},
     "output_type": "execute_result"
    }
   ],
   "source": [
    "data_df.head()"
   ]
  },
  {
   "cell_type": "code",
   "execution_count": 4,
   "metadata": {},
   "outputs": [
    {
     "data": {
      "text/html": [
       "<div>\n",
       "<style scoped>\n",
       "    .dataframe tbody tr th:only-of-type {\n",
       "        vertical-align: middle;\n",
       "    }\n",
       "\n",
       "    .dataframe tbody tr th {\n",
       "        vertical-align: top;\n",
       "    }\n",
       "\n",
       "    .dataframe thead th {\n",
       "        text-align: right;\n",
       "    }\n",
       "</style>\n",
       "<table border=\"1\" class=\"dataframe\">\n",
       "  <thead>\n",
       "    <tr style=\"text-align: right;\">\n",
       "      <th></th>\n",
       "      <th>AÑO</th>\n",
       "      <th>TOTAL TITULADOS</th>\n",
       "      <th>TITULADOS MUJERES POR PROGRAMA</th>\n",
       "      <th>TITULADOS HOMBRES POR PROGRAMA</th>\n",
       "      <th>CLASIFICACIÓN INSTITUCIÓN NIVEL 1</th>\n",
       "      <th>CLASIFICACIÓN INSTITUCIÓN NIVEL 2</th>\n",
       "      <th>CLASIFICACIÓN INSTITUCIÓN NIVEL 3</th>\n",
       "      <th>CÓDIGO INSTITUCIÓN</th>\n",
       "      <th>NOMBRE INSTITUCIÓN</th>\n",
       "      <th>CIUDAD</th>\n",
       "      <th>REGIÓN</th>\n",
       "      <th>NOMBRE CARRERA</th>\n",
       "      <th>ÁREA DEL CONOCIMIENTO</th>\n",
       "      <th>OECD ÁREA</th>\n",
       "      <th>OECD SUBAREA</th>\n",
       "      <th>ÁREA CARRERA GENÉRICA</th>\n",
       "      <th>NIVEL GLOBAL</th>\n",
       "      <th>CARRERA CLASIFICACIÓN NIVEL 1</th>\n",
       "      <th>CARRERA CLASIFICACIÓN NIVEL 2</th>\n",
       "      <th>MODALIDAD</th>\n",
       "      <th>JORNADA</th>\n",
       "      <th>TIPO DE PLAN DE LA CARRERA</th>\n",
       "      <th>DURACIÓN ESTUDIO CARRERA</th>\n",
       "      <th>DURACIÓN TOTAL DE LA CARRERA</th>\n",
       "      <th>CÓDIGO CARRERA</th>\n",
       "      <th>TOTAL RANGO EDAD</th>\n",
       "      <th>RANGO DE EDAD 15 A 19 AÑOS</th>\n",
       "      <th>RANGO DE EDAD 20 A 24 AÑOS</th>\n",
       "      <th>RANGO DE EDAD 25 A 29 AÑOS</th>\n",
       "      <th>RANGO DE EDAD 30 A 34 AÑOS</th>\n",
       "      <th>RANGO DE EDAD 35 A 39 AÑOS</th>\n",
       "      <th>RANGO DE EDAD 40 Y MÁS AÑOS</th>\n",
       "      <th>RANGO DE EDAD SIN INFORMACIÓN</th>\n",
       "      <th>PROMEDIO EDAD CARRERA</th>\n",
       "      <th>PROMEDIO EDAD MUJER</th>\n",
       "      <th>PROMEDIO EDAD HOMBRE</th>\n",
       "    </tr>\n",
       "  </thead>\n",
       "  <tbody>\n",
       "    <tr>\n",
       "      <th>0</th>\n",
       "      <td>object</td>\n",
       "      <td>int64</td>\n",
       "      <td>float64</td>\n",
       "      <td>float64</td>\n",
       "      <td>object</td>\n",
       "      <td>object</td>\n",
       "      <td>object</td>\n",
       "      <td>int64</td>\n",
       "      <td>object</td>\n",
       "      <td>object</td>\n",
       "      <td>object</td>\n",
       "      <td>object</td>\n",
       "      <td>object</td>\n",
       "      <td>object</td>\n",
       "      <td>object</td>\n",
       "      <td>object</td>\n",
       "      <td>object</td>\n",
       "      <td>object</td>\n",
       "      <td>object</td>\n",
       "      <td>object</td>\n",
       "      <td>object</td>\n",
       "      <td>object</td>\n",
       "      <td>float64</td>\n",
       "      <td>float64</td>\n",
       "      <td>object</td>\n",
       "      <td>int64</td>\n",
       "      <td>float64</td>\n",
       "      <td>float64</td>\n",
       "      <td>float64</td>\n",
       "      <td>float64</td>\n",
       "      <td>float64</td>\n",
       "      <td>float64</td>\n",
       "      <td>float64</td>\n",
       "      <td>object</td>\n",
       "      <td>object</td>\n",
       "      <td>object</td>\n",
       "    </tr>\n",
       "  </tbody>\n",
       "</table>\n",
       "</div>"
      ],
      "text/plain": [
       "      AÑO TOTAL TITULADOS TITULADOS MUJERES POR PROGRAMA  \\\n",
       "0  object           int64                        float64   \n",
       "\n",
       "  TITULADOS HOMBRES POR PROGRAMA CLASIFICACIÓN INSTITUCIÓN NIVEL 1  \\\n",
       "0                        float64                            object   \n",
       "\n",
       "  CLASIFICACIÓN INSTITUCIÓN NIVEL 2 CLASIFICACIÓN INSTITUCIÓN NIVEL 3  \\\n",
       "0                            object                            object   \n",
       "\n",
       "  CÓDIGO INSTITUCIÓN NOMBRE INSTITUCIÓN  CIUDAD  REGIÓN NOMBRE CARRERA  \\\n",
       "0              int64             object  object  object         object   \n",
       "\n",
       "  ÁREA DEL CONOCIMIENTO OECD ÁREA OECD SUBAREA ÁREA CARRERA GENÉRICA  \\\n",
       "0                object    object       object                object   \n",
       "\n",
       "  NIVEL GLOBAL CARRERA CLASIFICACIÓN NIVEL 1 CARRERA CLASIFICACIÓN NIVEL 2  \\\n",
       "0       object                        object                        object   \n",
       "\n",
       "  MODALIDAD JORNADA TIPO DE PLAN DE LA CARRERA DURACIÓN ESTUDIO CARRERA  \\\n",
       "0    object  object                     object                  float64   \n",
       "\n",
       "  DURACIÓN TOTAL DE LA CARRERA CÓDIGO CARRERA TOTAL RANGO EDAD  \\\n",
       "0                      float64         object            int64   \n",
       "\n",
       "  RANGO DE EDAD 15 A 19 AÑOS RANGO DE EDAD 20 A 24 AÑOS  \\\n",
       "0                    float64                    float64   \n",
       "\n",
       "  RANGO DE EDAD 25 A 29 AÑOS RANGO DE EDAD 30 A 34 AÑOS  \\\n",
       "0                    float64                    float64   \n",
       "\n",
       "  RANGO DE EDAD 35 A 39 AÑOS RANGO DE EDAD 40 Y MÁS AÑOS  \\\n",
       "0                    float64                     float64   \n",
       "\n",
       "  RANGO DE EDAD SIN INFORMACIÓN PROMEDIO EDAD CARRERA PROMEDIO EDAD MUJER  \\\n",
       "0                       float64                object              object   \n",
       "\n",
       "  PROMEDIO EDAD HOMBRE  \n",
       "0               object  "
      ]
     },
     "execution_count": 4,
     "metadata": {},
     "output_type": "execute_result"
    }
   ],
   "source": [
    "data_df.dtypes.to_frame().transpose()"
   ]
  },
  {
   "cell_type": "code",
   "execution_count": 5,
   "metadata": {},
   "outputs": [
    {
     "data": {
      "text/plain": [
       "array(['TIT_2007', 'TIT_2008', 'TIT_2009', 'TIT_2010', 'TIT_2011',\n",
       "       'TIT_2012', 'TIT_2013', 'TIT_2014', 'TIT_2015', 'TIT_2016'], dtype=object)"
      ]
     },
     "execution_count": 5,
     "metadata": {},
     "output_type": "execute_result"
    }
   ],
   "source": [
    "data_df['AÑO'].unique()"
   ]
  },
  {
   "cell_type": "code",
   "execution_count": 6,
   "metadata": {},
   "outputs": [
    {
     "data": {
      "text/plain": [
       "array(['Pregrado', 'Postítulo', 'Postgrado'], dtype=object)"
      ]
     },
     "execution_count": 6,
     "metadata": {},
     "output_type": "execute_result"
    }
   ],
   "source": [
    "data_df['NIVEL GLOBAL'].unique()"
   ]
  },
  {
   "cell_type": "code",
   "execution_count": 7,
   "metadata": {},
   "outputs": [
    {
     "data": {
      "text/plain": [
       "array(['Profesional Con Licenciatura', 'Profesional Sin Licenciatura',\n",
       "       'Licenciatura No Conducente a Título', 'Postítulo', 'Magister',\n",
       "       'Diplomado (superior a un semestre)', 'Técnico de Nivel Superior',\n",
       "       'Especialidad Médica U Odontológica', 'Doctorado'], dtype=object)"
      ]
     },
     "execution_count": 7,
     "metadata": {},
     "output_type": "execute_result"
    }
   ],
   "source": [
    "data_df['CARRERA CLASIFICACIÓN NIVEL 1'].unique()"
   ]
  },
  {
   "cell_type": "code",
   "execution_count": 8,
   "metadata": {},
   "outputs": [
    {
     "data": {
      "text/plain": [
       "array(['Carreras Profesionales', 'Postítulo', 'Magister',\n",
       "       'Carreras Técnicas', 'Doctorado'], dtype=object)"
      ]
     },
     "execution_count": 8,
     "metadata": {},
     "output_type": "execute_result"
    }
   ],
   "source": [
    "data_df['CARRERA CLASIFICACIÓN NIVEL 2'].unique()"
   ]
  },
  {
   "cell_type": "code",
   "execution_count": 9,
   "metadata": {
    "collapsed": true
   },
   "outputs": [],
   "source": [
    "año_str={'TIT_2007':2017, 'TIT_2008':2008, 'TIT_2009':2009, 'TIT_2010':2010, 'TIT_2011':2011,\n",
    "       'TIT_2012':2012, 'TIT_2013':2013, 'TIT_2014':2014, 'TIT_2015':2015, 'TIT_2016':2016}\n",
    "data_df['año'] = data_df['AÑO'].map(año_str)"
   ]
  },
  {
   "cell_type": "code",
   "execution_count": 10,
   "metadata": {},
   "outputs": [
    {
     "data": {
      "text/plain": [
       "array([2017, 2008, 2009, 2010, 2011, 2012, 2013, 2014, 2015, 2016])"
      ]
     },
     "execution_count": 10,
     "metadata": {},
     "output_type": "execute_result"
    }
   ],
   "source": [
    "data_df['año'].unique()"
   ]
  },
  {
   "cell_type": "code",
   "execution_count": 11,
   "metadata": {
    "scrolled": true
   },
   "outputs": [
    {
     "data": {
      "text/html": [
       "<div>\n",
       "<style scoped>\n",
       "    .dataframe tbody tr th:only-of-type {\n",
       "        vertical-align: middle;\n",
       "    }\n",
       "\n",
       "    .dataframe tbody tr th {\n",
       "        vertical-align: top;\n",
       "    }\n",
       "\n",
       "    .dataframe thead th {\n",
       "        text-align: right;\n",
       "    }\n",
       "</style>\n",
       "<table border=\"1\" class=\"dataframe\">\n",
       "  <thead>\n",
       "    <tr style=\"text-align: right;\">\n",
       "      <th></th>\n",
       "      <th>año</th>\n",
       "      <th>n_egresados</th>\n",
       "    </tr>\n",
       "  </thead>\n",
       "  <tbody>\n",
       "    <tr>\n",
       "      <th>0</th>\n",
       "      <td>2008</td>\n",
       "      <td>374</td>\n",
       "    </tr>\n",
       "    <tr>\n",
       "      <th>1</th>\n",
       "      <td>2009</td>\n",
       "      <td>383</td>\n",
       "    </tr>\n",
       "    <tr>\n",
       "      <th>2</th>\n",
       "      <td>2010</td>\n",
       "      <td>426</td>\n",
       "    </tr>\n",
       "    <tr>\n",
       "      <th>3</th>\n",
       "      <td>2011</td>\n",
       "      <td>492</td>\n",
       "    </tr>\n",
       "    <tr>\n",
       "      <th>4</th>\n",
       "      <td>2012</td>\n",
       "      <td>604</td>\n",
       "    </tr>\n",
       "    <tr>\n",
       "      <th>5</th>\n",
       "      <td>2013</td>\n",
       "      <td>639</td>\n",
       "    </tr>\n",
       "    <tr>\n",
       "      <th>6</th>\n",
       "      <td>2014</td>\n",
       "      <td>619</td>\n",
       "    </tr>\n",
       "    <tr>\n",
       "      <th>7</th>\n",
       "      <td>2015</td>\n",
       "      <td>692</td>\n",
       "    </tr>\n",
       "    <tr>\n",
       "      <th>8</th>\n",
       "      <td>2016</td>\n",
       "      <td>704</td>\n",
       "    </tr>\n",
       "    <tr>\n",
       "      <th>9</th>\n",
       "      <td>2017</td>\n",
       "      <td>315</td>\n",
       "    </tr>\n",
       "  </tbody>\n",
       "</table>\n",
       "</div>"
      ],
      "text/plain": [
       "    año  n_egresados\n",
       "0  2008          374\n",
       "1  2009          383\n",
       "2  2010          426\n",
       "3  2011          492\n",
       "4  2012          604\n",
       "5  2013          639\n",
       "6  2014          619\n",
       "7  2015          692\n",
       "8  2016          704\n",
       "9  2017          315"
      ]
     },
     "execution_count": 11,
     "metadata": {},
     "output_type": "execute_result"
    }
   ],
   "source": [
    "mineduc_df=pd.DataFrame(data_df[data_df['CARRERA CLASIFICACIÓN NIVEL 1']=='Doctorado'].groupby('año')['TOTAL TITULADOS'].sum()).reset_index()\n",
    "mineduc_df=mineduc_df.rename(columns={\"TOTAL TITULADOS\":\"n_egresados\"})\n",
    "mineduc_df"
   ]
  },
  {
   "cell_type": "code",
   "execution_count": 13,
   "metadata": {},
   "outputs": [
    {
     "data": {
      "text/plain": [
       "<matplotlib.axes._subplots.AxesSubplot at 0x1a10591dd8>"
      ]
     },
     "execution_count": 13,
     "metadata": {},
     "output_type": "execute_result"
    },
    {
     "data": {
      "image/png": "[encoded data removed]",
      "text/plain": [
       "<matplotlib.figure.Figure at 0x1a10f26668>"
      ]
     },
     "metadata": {},
     "output_type": "display_data"
    }
   ],
   "source": [
    "mineduc_df[mineduc_df.index < 2017].plot(kind=\"line\", x=\"año\", y=\"n_egresados\")"
   ]
  },
  {
   "cell_type": "markdown",
   "metadata": {},
   "source": [
    "## 2. Analisis de bases de datos Fondecyt"
   ]
  },
  {
   "cell_type": "code",
   "execution_count": 14,
   "metadata": {},
   "outputs": [
    {
     "data": {
      "text/html": [
       "<div>\n",
       "<style scoped>\n",
       "    .dataframe tbody tr th:only-of-type {\n",
       "        vertical-align: middle;\n",
       "    }\n",
       "\n",
       "    .dataframe tbody tr th {\n",
       "        vertical-align: top;\n",
       "    }\n",
       "\n",
       "    .dataframe thead th {\n",
       "        text-align: right;\n",
       "    }\n",
       "</style>\n",
       "<table border=\"1\" class=\"dataframe\">\n",
       "  <thead>\n",
       "    <tr style=\"text-align: right;\">\n",
       "      <th></th>\n",
       "      <th>año</th>\n",
       "      <th>n_concursados</th>\n",
       "      <th>n_aprobados</th>\n",
       "      <th>monto_solicitado</th>\n",
       "      <th>monto_aprobado</th>\n",
       "    </tr>\n",
       "  </thead>\n",
       "  <tbody>\n",
       "    <tr>\n",
       "      <th>0</th>\n",
       "      <td>2007</td>\n",
       "      <td>58</td>\n",
       "      <td>37</td>\n",
       "      <td>NaN</td>\n",
       "      <td>922052</td>\n",
       "    </tr>\n",
       "    <tr>\n",
       "      <th>1</th>\n",
       "      <td>2008</td>\n",
       "      <td>110</td>\n",
       "      <td>74</td>\n",
       "      <td>1684744.0</td>\n",
       "      <td>1132227</td>\n",
       "    </tr>\n",
       "    <tr>\n",
       "      <th>2</th>\n",
       "      <td>2009</td>\n",
       "      <td>76</td>\n",
       "      <td>66</td>\n",
       "      <td>1245880.0</td>\n",
       "      <td>1084471</td>\n",
       "    </tr>\n",
       "    <tr>\n",
       "      <th>3</th>\n",
       "      <td>2010</td>\n",
       "      <td>140</td>\n",
       "      <td>80</td>\n",
       "      <td>6856883.0</td>\n",
       "      <td>3959662</td>\n",
       "    </tr>\n",
       "    <tr>\n",
       "      <th>4</th>\n",
       "      <td>2011</td>\n",
       "      <td>172</td>\n",
       "      <td>90</td>\n",
       "      <td>8686381.0</td>\n",
       "      <td>4662685</td>\n",
       "    </tr>\n",
       "  </tbody>\n",
       "</table>\n",
       "</div>"
      ],
      "text/plain": [
       "    año  n_concursados  n_aprobados  monto_solicitado  monto_aprobado\n",
       "0  2007             58           37               NaN          922052\n",
       "1  2008            110           74         1684744.0         1132227\n",
       "2  2009             76           66         1245880.0         1084471\n",
       "3  2010            140           80         6856883.0         3959662\n",
       "4  2011            172           90         8686381.0         4662685"
      ]
     },
     "execution_count": 14,
     "metadata": {},
     "output_type": "execute_result"
    }
   ],
   "source": [
    "fondecyt_df=pd.read_csv('data/fondecyt postdoc 2010-2018.csv')\n",
    "fondecyt_df.head()"
   ]
  },
  {
   "cell_type": "code",
   "execution_count": 15,
   "metadata": {},
   "outputs": [
    {
     "data": {
      "text/html": [
       "<div>\n",
       "<style scoped>\n",
       "    .dataframe tbody tr th:only-of-type {\n",
       "        vertical-align: middle;\n",
       "    }\n",
       "\n",
       "    .dataframe tbody tr th {\n",
       "        vertical-align: top;\n",
       "    }\n",
       "\n",
       "    .dataframe thead th {\n",
       "        text-align: right;\n",
       "    }\n",
       "</style>\n",
       "<table border=\"1\" class=\"dataframe\">\n",
       "  <thead>\n",
       "    <tr style=\"text-align: right;\">\n",
       "      <th></th>\n",
       "      <th>año</th>\n",
       "      <th>n_egresados</th>\n",
       "    </tr>\n",
       "  </thead>\n",
       "  <tbody>\n",
       "    <tr>\n",
       "      <th>0</th>\n",
       "      <td>2012</td>\n",
       "      <td>222</td>\n",
       "    </tr>\n",
       "    <tr>\n",
       "      <th>1</th>\n",
       "      <td>2013</td>\n",
       "      <td>284</td>\n",
       "    </tr>\n",
       "    <tr>\n",
       "      <th>2</th>\n",
       "      <td>2014</td>\n",
       "      <td>323</td>\n",
       "    </tr>\n",
       "    <tr>\n",
       "      <th>3</th>\n",
       "      <td>2015</td>\n",
       "      <td>337</td>\n",
       "    </tr>\n",
       "  </tbody>\n",
       "</table>\n",
       "</div>"
      ],
      "text/plain": [
       "    año  n_egresados\n",
       "0  2012          222\n",
       "1  2013          284\n",
       "2  2014          323\n",
       "3  2015          337"
      ]
     },
     "execution_count": 15,
     "metadata": {},
     "output_type": "execute_result"
    }
   ],
   "source": [
    "conicyt_extranjero_df=pd.read_csv('data/conicyt - egresados doctorado extranjero 2012-2015.csv')\n",
    "conicyt_extranjero_df.head()"
   ]
  },
  {
   "cell_type": "code",
   "execution_count": 19,
   "metadata": {},
   "outputs": [
    {
     "data": {
      "image/png": "[encoded data removed]",
      "text/plain": [
       "<matplotlib.figure.Figure at 0x1a11a83fd0>"
      ]
     },
     "metadata": {},
     "output_type": "display_data"
    }
   ],
   "source": [
    "fig, ax = plt.subplots(1,1, figsize=(12,6))\n",
    "mineduc_df[mineduc_df['año'] < 2017].plot(kind=\"line\", x=\"año\", y=\"n_egresados\", ax=ax)\n",
    "conicyt_extranjero_df.plot(kind=\"line\", x=\"año\", y=\"n_egresados\", ax=ax)\n",
    "#fondecyt_df.plot(kind=\"line\", x=\"año\", y=\"n_concursados\", ax=ax)\n",
    "fondecyt_df.plot(kind=\"line\", x=\"año\", y=\"n_aprobados\", ax=ax)\n",
    "\n",
    "ax.legend([\"Egresados Doctorado nacional\",\"Egresados Doctorado extranjero\", \"Inserción Postdoc Fondecyt\"],\n",
    "          frameon=True)\n",
    "\n",
    "ax.set_ylim(0,800)\n",
    "ax.spines['right'].set_visible(False)\n",
    "ax.spines['top'].set_visible(False)\n",
    "ax.yaxis.grid(linestyle=\"--\")\n",
    "\n",
    "major_ticks = np.arange(2007, 2019, 1)\n",
    "ax.set_xticks(major_ticks);\n",
    "\n",
    "plt.title(\"Doctores graduados en Chile y en el extranjero\")\n",
    "\n",
    "plt.savefig('figures/cti/figura_1_numero_doctores_egresados.png', bbox_inches='tight')\n",
    "plt.savefig('figures/cti/figura_1_numero_doctores_egresados.pdf', bbox_inches='tight')"
   ]
  },
  {
   "cell_type": "code",
   "execution_count": null,
   "metadata": {
    "collapsed": true
   },
   "outputs": [],
   "source": []
  },
  {
   "cell_type": "markdown",
   "metadata": {},
   "source": [
    "## Using linear regression model"
   ]
  },
  {
   "cell_type": "code",
   "execution_count": null,
   "metadata": {},
   "outputs": [],
   "source": [
    "data = {'año':np.array([2010,2011,2012,2013,2014]), 'n_doctores':np.array([433.,474.,584.,630.,650.])}\n",
    "data_df = pd.DataFrame(data)\n",
    "\n",
    "data_df.plot(kind='line', x='año', y='n_doctores')"
   ]
  },
  {
   "cell_type": "code",
   "execution_count": null,
   "metadata": {},
   "outputs": [],
   "source": [
    "X=data['año'][:, np.newaxis]\n",
    "y=data['n_doctores']\n",
    "\n",
    "poly = PolynomialFeatures(degree=1)\n",
    "X_ = poly.fit_transform(X)\n",
    "\n",
    "clf = linear_model.LinearRegression()\n",
    "clf.fit(X_, y)"
   ]
  },
  {
   "cell_type": "code",
   "execution_count": null,
   "metadata": {},
   "outputs": [],
   "source": [
    "clf.score(X_,y)"
   ]
  },
  {
   "cell_type": "code",
   "execution_count": null,
   "metadata": {},
   "outputs": [],
   "source": [
    "predict=np.arange(2010,2018).reshape(-1, 1)\n",
    "predict_ = poly.fit_transform(predict)\n",
    "\n",
    "print(clf.predict(predict_))"
   ]
  },
  {
   "cell_type": "markdown",
   "metadata": {},
   "source": [
    "## Using sigmoid function"
   ]
  },
  {
   "cell_type": "code",
   "execution_count": null,
   "metadata": {
    "collapsed": true
   },
   "outputs": [],
   "source": [
    "def sigmoid(x, x0, k, a, c):\n",
    "    y = a / (1 + np.exp(-k*(x-x0))) + c\n",
    "    return y"
   ]
  },
  {
   "cell_type": "code",
   "execution_count": null,
   "metadata": {},
   "outputs": [],
   "source": [
    "popt, pcov = curve_fit(sigmoid, data['año'], data['n_doctores'])\n",
    "print(popt)\n",
    "print(pcov)"
   ]
  },
  {
   "cell_type": "code",
   "execution_count": null,
   "metadata": {},
   "outputs": [],
   "source": [
    "x_predict=np.arange(2010,2018)\n",
    "y_predict = sigmoid(predict, *popt)\n",
    "\n",
    "print(y_predict)"
   ]
  },
  {
   "cell_type": "markdown",
   "metadata": {},
   "source": [
    "## Using logistic regression model"
   ]
  },
  {
   "cell_type": "code",
   "execution_count": null,
   "metadata": {},
   "outputs": [],
   "source": [
    "clf = linear_model.LogisticRegression()\n",
    "clf.fit(X, y)"
   ]
  },
  {
   "cell_type": "code",
   "execution_count": null,
   "metadata": {},
   "outputs": [],
   "source": [
    "clf.coef_"
   ]
  },
  {
   "cell_type": "code",
   "execution_count": null,
   "metadata": {},
   "outputs": [],
   "source": [
    "def model(x):\n",
    "    return 1 / (1 + np.exp(-x))\n",
    "\n",
    "predict=np.arange(2010,2018)[:, np.newaxis]\n",
    "result = model(predict * clf.coef_ + clf.intercept_).ravel()\n",
    "result"
   ]
  },
  {
   "cell_type": "code",
   "execution_count": null,
   "metadata": {},
   "outputs": [],
   "source": [
    "clf.intercept_"
   ]
  },
  {
   "cell_type": "code",
   "execution_count": null,
   "metadata": {},
   "outputs": [],
   "source": [
    "predict=np.arange(2010,2018)\n",
    "predict * clf.coef_# + clf.intercept_"
   ]
  },
  {
   "cell_type": "code",
   "execution_count": null,
   "metadata": {
    "collapsed": true
   },
   "outputs": [],
   "source": [
    "data = {'año':[2010,2011,2012,2013,2014], 'n_doctores':[433,474,584,630,650]}\n",
    "data_df = pd.DataFrame(data)\n",
    "\n",
    "data_df.plot(kind='line', x='año', y='n_doctores')"
   ]
  },
  {
   "cell_type": "code",
   "execution_count": null,
   "metadata": {
    "collapsed": true
   },
   "outputs": [],
   "source": []
  }
 ],
 "metadata": {
  "kernelspec": {
   "display_name": "Python 3",
   "language": "python",
   "name": "python3"
  },
  "language_info": {
   "codemirror_mode": {
    "name": "ipython",
    "version": 3
   },
   "file_extension": ".py",
   "mimetype": "text/x-python",
   "name": "python",
   "nbconvert_exporter": "python",
   "pygments_lexer": "ipython3",
   "version": "3.6.4"
  }
 },
 "nbformat": 4,
 "nbformat_minor": 2
}
